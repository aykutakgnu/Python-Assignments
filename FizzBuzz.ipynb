{
  "nbformat": 4,
  "nbformat_minor": 0,
  "metadata": {
    "colab": {
      "name": "FizzBuzz.ipynb",
      "provenance": [],
      "collapsed_sections": []
    },
    "kernelspec": {
      "name": "python3",
      "display_name": "Python 3"
    },
    "language_info": {
      "name": "python"
    }
  },
  "cells": [
    {
      "cell_type": "code",
      "source": [
        "for i in range(1,101):\n",
        "    if i % 3 == 0 and i % 5 == 0 :\n",
        "        print(\"FizzBuzz\", end=\"  \")\n",
        "    elif i % 5 == 0 :   \n",
        "        print(\"Buzz\", end=\"  \")\n",
        "    elif i % 3 == 0 :\n",
        "        print(\"Fizz\", end=\"  \")\n",
        "    else:\n",
        "        print(i, end=\"  \") "
      ],
      "metadata": {
        "colab": {
          "base_uri": "https://localhost:8080/"
        },
        "id": "p6K6LGa7tXvZ",
        "outputId": "33d5a450-7c36-4bb5-ce5f-1a3a95e2e5c6"
      },
      "execution_count": 2,
      "outputs": [
        {
          "output_type": "stream",
          "name": "stdout",
          "text": [
            "1  2  Fizz  4  Buzz  Fizz  7  8  Fizz  Buzz  11  Fizz  13  14  FizzBuzz  16  17  Fizz  19  Buzz  Fizz  22  23  Fizz  Buzz  26  Fizz  28  29  FizzBuzz  31  32  Fizz  34  Buzz  Fizz  37  38  Fizz  Buzz  41  Fizz  43  44  FizzBuzz  46  47  Fizz  49  Buzz  Fizz  52  53  Fizz  Buzz  56  Fizz  58  59  FizzBuzz  61  62  Fizz  64  Buzz  Fizz  67  68  Fizz  Buzz  71  Fizz  73  74  FizzBuzz  76  77  Fizz  79  Buzz  Fizz  82  83  Fizz  Buzz  86  Fizz  88  89  FizzBuzz  91  92  Fizz  94  Buzz  Fizz  97  98  Fizz  Buzz  "
          ]
        }
      ]
    },
    {
      "cell_type": "code",
      "source": [
        "fizz = []\n",
        "buzz = []\n",
        "fizzbuzz = []\n",
        "other = []\n",
        "\n",
        "for i in range(1,101):\n",
        "    if i % 3 == 0 and i % 5 == 0 :\n",
        "        fizzbuzz.append(i)\n",
        "    elif i % 5 == 0 :   \n",
        "        buzz.append(i)\n",
        "    elif i % 3 == 0 :\n",
        "        fizz.append(i)\n",
        "    else:\n",
        "        other.append(i)      \n",
        "        \n",
        "print(\"Fizz\", fizz)        \n",
        "print(\"Buzz\", buzz)         \n",
        "print(\"FizzBuzz\", fizzbuzz)\n",
        "print(\"Other\", other)"
      ],
      "metadata": {
        "colab": {
          "base_uri": "https://localhost:8080/"
        },
        "id": "4WS6YXgDtXpx",
        "outputId": "1e636b1d-ac57-425a-b912-3a021e7b2b3d"
      },
      "execution_count": 3,
      "outputs": [
        {
          "output_type": "stream",
          "name": "stdout",
          "text": [
            "Fizz [3, 6, 9, 12, 18, 21, 24, 27, 33, 36, 39, 42, 48, 51, 54, 57, 63, 66, 69, 72, 78, 81, 84, 87, 93, 96, 99]\n",
            "Buzz [5, 10, 20, 25, 35, 40, 50, 55, 65, 70, 80, 85, 95, 100]\n",
            "FizzBuzz [15, 30, 45, 60, 75, 90]\n",
            "Other [1, 2, 4, 7, 8, 11, 13, 14, 16, 17, 19, 22, 23, 26, 28, 29, 31, 32, 34, 37, 38, 41, 43, 44, 46, 47, 49, 52, 53, 56, 58, 59, 61, 62, 64, 67, 68, 71, 73, 74, 76, 77, 79, 82, 83, 86, 88, 89, 91, 92, 94, 97, 98]\n"
          ]
        }
      ]
    }
  ]
}