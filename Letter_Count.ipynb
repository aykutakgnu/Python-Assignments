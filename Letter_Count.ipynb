{
  "nbformat": 4,
  "nbformat_minor": 0,
  "metadata": {
    "colab": {
      "name": "Letter Count.ipynb",
      "provenance": [],
      "collapsed_sections": []
    },
    "kernelspec": {
      "name": "python3",
      "display_name": "Python 3"
    },
    "language_info": {
      "name": "python"
    }
  },
  "cells": [
    {
      "cell_type": "code",
      "execution_count": 1,
      "metadata": {
        "colab": {
          "base_uri": "https://localhost:8080/"
        },
        "id": "scrYxjsyJE9c",
        "outputId": "8247d652-cd57-49e1-a845-85398bb2e5fa"
      },
      "outputs": [
        {
          "output_type": "stream",
          "name": "stdout",
          "text": [
            "{'h': 1, 'i': 1, 'p': 2, 'o': 2, ' ': 3, 'r': 1, 'u': 2, 'n': 1, 's': 2, 't': 1, '!': 1}\n"
          ]
        }
      ],
      "source": [
        "sentence = \"hippo runs to us!\"\n",
        "mydict = {}\n",
        "for i in sentence:\n",
        "    mydict.update({ i : sentence.count(i) })\n",
        "print(mydict)"
      ]
    },
    {
      "cell_type": "code",
      "source": [
        "sentence = input(\"Enter your letter: \")\n",
        "mydict = {}\n",
        "for i in sentence:\n",
        "    mydict.update({ i : sentence.count(i) })\n",
        "print(mydict)"
      ],
      "metadata": {
        "colab": {
          "base_uri": "https://localhost:8080/"
        },
        "id": "pGfBdMyeJOhn",
        "outputId": "412998d8-5603-41ef-817f-ffe089b2f9ac"
      },
      "execution_count": 11,
      "outputs": [
        {
          "output_type": "stream",
          "name": "stdout",
          "text": [
            "Enter your letter: Lorem ipsum dolor sit amet, consectetur adipiscing elit.\n",
            "{'L': 1, 'o': 4, 'r': 3, 'e': 5, 'm': 3, ' ': 7, 'i': 6, 'p': 2, 's': 4, 'u': 2, 'd': 2, 'l': 2, 't': 5, 'a': 2, ',': 1, 'c': 3, 'n': 2, 'g': 1, '.': 1}\n"
          ]
        }
      ]
    }
  ]
}