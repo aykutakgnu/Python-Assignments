{
  "nbformat": 4,
  "nbformat_minor": 0,
  "metadata": {
    "colab": {
      "name": "Prime_Numbers.ipynb",
      "provenance": [],
      "collapsed_sections": []
    },
    "kernelspec": {
      "name": "python3",
      "display_name": "Python 3"
    },
    "language_info": {
      "name": "python"
    }
  },
  "cells": [
    {
      "cell_type": "code",
      "source": [
        "n = int(input(\"Enter a positive number : \"))\n",
        "counter = 0\n",
        "\n",
        "for i in range (1, n+1):\n",
        "    if n % i == 0:\n",
        "        counter += 1\n",
        "\n",
        "if (n ==0) or (n == 1) or (counter >= 3):\n",
        "    print(n, \"is not a prime number.\")\n",
        "else:\n",
        "    print(n, \"is a prime number.\")"
      ],
      "metadata": {
        "colab": {
          "base_uri": "https://localhost:8080/"
        },
        "id": "4n1xPN8-jWRe",
        "outputId": "6b155a51-a52e-4c88-cf41-fccb176307a2"
      },
      "execution_count": 4,
      "outputs": [
        {
          "output_type": "stream",
          "name": "stdout",
          "text": [
            "Enter a positive number : 19\n",
            "19 is a prime number.\n"
          ]
        }
      ]
    },
    {
      "cell_type": "code",
      "execution_count": 6,
      "metadata": {
        "colab": {
          "base_uri": "https://localhost:8080/"
        },
        "id": "s-utzLhAjFAl",
        "outputId": "4da8eb03-5183-4845-e8a0-c4dbf416a891"
      },
      "outputs": [
        {
          "output_type": "stream",
          "name": "stdout",
          "text": [
            "Enter a positive number : 100\n",
            "[2, 3, 5, 7, 11, 13, 17, 19, 23, 29, 31, 37, 41, 43, 47, 53, 59, 61, 67, 71, 73, 79, 83, 89, 97]\n"
          ]
        }
      ],
      "source": [
        "n = int(input(\"Enter a positive number : \"))\n",
        "mylist = []\n",
        "for i in range(1, n):\n",
        "    if i > 1:\n",
        "        for number in range(2, i):\n",
        "            if (i % number) == 0:\n",
        "                break\n",
        "        else:\n",
        "            mylist.append(i)\n",
        "print(mylist)"
      ]
    }
  ]
}